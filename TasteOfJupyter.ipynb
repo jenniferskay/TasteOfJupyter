{
 "cells": [
  {
   "cell_type": "markdown",
   "id": "b47ee3bb",
   "metadata": {},
   "source": [
    "# A Taste of Jupyter Notebooks\n",
    "### Jennifer S. Kay, Rowan CS\n",
    "\n",
    "<h2 style=\"color:#EE3377\">\n",
    "    IMPORTANT: Before you do anything else, you must go to the menu above, click on the \"Kernel\" button and select \"Restart and Run all!!!\"\n",
    "</h2>\n"
   ]
  },
  {
   "cell_type": "code",
   "execution_count": null,
   "id": "904d89b7",
   "metadata": {},
   "outputs": [],
   "source": [
    "import matplotlib\n",
    "import matplotlib.pyplot as plt\n",
    "import numpy as np\n",
    "import time\n",
    "\n",
    "# set all numpy prints to just 3 decimal places\n",
    "np.set_printoptions(formatter={'float': lambda x: \"{0:0.3f}\".format(x)})   \n",
    "\n",
    "%matplotlib inline \n",
    "%matplotlib notebook \n",
    "\n",
    "#stack overflow says calling a second time may prevent some graphics errors\n",
    "%matplotlib notebook \n",
    "\n",
    "import math\n",
    "\n",
    "def wavePlay(amplitude, period, phaseShift, verticalShift):\n",
    "    numSamples = 500\n",
    "    timeAxis = np.linspace(0.0, 6*math.pi, num=numSamples)\n",
    "    zero = np.linspace(0, 0, num=numSamples)\n",
    "    regularSineWave = np.sin(timeAxis)\n",
    "    interestingSineWave = verticalShift+amplitude*np.sin(timeAxis-phaseShift)\n",
    "    \n",
    "\n",
    "    fig = plt.figure()\n",
    "   \n",
    "    plt.plot(timeAxis, zero, label=\"zero\", color=\"black\")\n",
    "    plt.plot(timeAxis, regularSineWave, label='sin(x)')\n",
    "    interestingLabel = \"Amp=\"+str(amplitude) + \", Per=\"+str(period)+\", PhShft=\"+str(phaseShift)+ \", VShft=\" + str(verticalShift)\n",
    "    plt.plot(timeAxis, interestingSineWave, label=interestingLabel)\n",
    "\n",
    "    # Labelling the x and y axes\n",
    "    plt.xlabel('X')\n",
    "    plt.ylabel('Y')\n",
    "    low, high = plt.ylim()\n",
    "    plt.ylim(top = high*2)\n",
    "    plt.legend()\n",
    "    \n",
    "wavePlay(amplitude=4, period=1, phaseShift=0, verticalShift=0)"
   ]
  },
  {
   "cell_type": "code",
   "execution_count": null,
   "id": "c9eb67d0",
   "metadata": {},
   "outputs": [],
   "source": []
  },
  {
   "cell_type": "code",
   "execution_count": null,
   "id": "aea3aba7",
   "metadata": {},
   "outputs": [],
   "source": []
  }
 ],
 "metadata": {
  "kernelspec": {
   "display_name": "Python 3 (ipykernel)",
   "language": "python",
   "name": "python3"
  },
  "language_info": {
   "codemirror_mode": {
    "name": "ipython",
    "version": 3
   },
   "file_extension": ".py",
   "mimetype": "text/x-python",
   "name": "python",
   "nbconvert_exporter": "python",
   "pygments_lexer": "ipython3",
   "version": "3.9.7"
  }
 },
 "nbformat": 4,
 "nbformat_minor": 5
}
